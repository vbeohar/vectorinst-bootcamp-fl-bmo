{
 "cells": [
  {
   "cell_type": "code",
   "execution_count": 2,
   "metadata": {},
   "outputs": [],
   "source": [
    "import pandas as pd\n",
    "import numpy as np\n",
    "\n",
    "# Load CSV\n",
    "df = pd.read_csv('HI-Medium_Trans.csv', low_memory=False)\n",
    "\n",
    "# Fix columns if needed\n",
    "df.columns = [\n",
    "    'timestamp', 'from_bank', 'from_account', 'to_bank', 'to_account',\n",
    "    'amount_received', 'receiving_currency', 'amount_paid', 'payment_currency',\n",
    "    'payment_format', 'is_laundering'\n",
    "]\n",
    "\n",
    "# Convert timestamp\n",
    "df['timestamp'] = pd.to_datetime(df['timestamp'], errors='coerce')\n",
    "\n",
    "# FX rate feature\n",
    "df['fx_rate'] = np.where(df['amount_received'] == 0, np.nan, df['amount_paid'] / df['amount_received'])\n",
    "\n",
    "# Temporal features\n",
    "df['tx_hour'] = df['timestamp'].dt.hour\n",
    "df['tx_day'] = df['timestamp'].dt.dayofweek\n",
    "df['tx_month'] = df['timestamp'].dt.month\n",
    "\n",
    "# Account pair and frequency\n",
    "df['account_pair'] = df['from_account'].astype(str) + ' → ' + df['to_account'].astype(str)\n",
    "df['account_pair_freq'] = df.groupby('account_pair')['account_pair'].transform('count')\n",
    "\n",
    "# Sender/Receiver activity\n",
    "df['from_account_tx_count'] = df.groupby('from_account')['from_account'].transform('count')\n",
    "df['to_account_rx_count'] = df.groupby('to_account')['to_account'].transform('count')\n",
    "\n",
    "# Label encode: from_bank, to_bank, payment_format\n",
    "from sklearn.preprocessing import LabelEncoder\n",
    "\n",
    "for col in ['from_bank', 'to_bank', 'payment_format']:\n",
    "    df[col] = LabelEncoder().fit_transform(df[col].astype(str))\n",
    "\n",
    "# Final feature set\n",
    "features = [\n",
    "    'amount_paid', 'amount_received', 'fx_rate',\n",
    "    'tx_hour', 'tx_day', 'tx_month',\n",
    "    'account_pair_freq', 'from_account_tx_count', 'to_account_rx_count',\n",
    "    'from_bank', 'to_bank', 'payment_format'\n",
    "]\n",
    "target = 'is_laundering'\n",
    "\n",
    "# Drop missing values\n",
    "df_model = df[features + [target]].dropna()\n"
   ]
  },
  {
   "cell_type": "code",
   "execution_count": 3,
   "metadata": {},
   "outputs": [
    {
     "name": "stderr",
     "output_type": "stream",
     "text": [
      "/Users/vaibhavbeohar/anaconda3/lib/python3.10/site-packages/tqdm/auto.py:22: TqdmWarning: IProgress not found. Please update jupyter and ipywidgets. See https://ipywidgets.readthedocs.io/en/stable/user_install.html\n",
      "  from .autonotebook import tqdm as notebook_tqdm\n"
     ]
    }
   ],
   "source": [
    "from sklearn.preprocessing import StandardScaler\n",
    "import torch\n",
    "\n",
    "# Standardize\n",
    "scaler = StandardScaler()\n",
    "X = scaler.fit_transform(df_model[features])\n",
    "y = df_model[target].astype(np.float32).values.reshape(-1, 1)\n",
    "\n",
    "# Convert to PyTorch tensors\n",
    "X_tensor = torch.tensor(X, dtype=torch.float32)\n",
    "y_tensor = torch.tensor(y, dtype=torch.float32)\n"
   ]
  },
  {
   "cell_type": "code",
   "execution_count": 4,
   "metadata": {},
   "outputs": [],
   "source": [
    "from torch.utils.data import TensorDataset, DataLoader, random_split\n",
    "\n",
    "# Dataset\n",
    "dataset = TensorDataset(X_tensor, y_tensor)\n",
    "\n",
    "# Split sizes\n",
    "total = len(dataset)\n",
    "train_size = int(0.6 * total)\n",
    "val_size = int(0.2 * total)\n",
    "test_size = total - train_size - val_size\n",
    "\n",
    "train_ds, val_ds, test_ds = random_split(dataset, [train_size, val_size, test_size])\n",
    "\n",
    "train_dl = DataLoader(train_ds, batch_size=1024, shuffle=True)\n",
    "val_dl = DataLoader(val_ds, batch_size=1024)\n",
    "test_dl = DataLoader(test_ds, batch_size=1024)\n"
   ]
  },
  {
   "cell_type": "code",
   "execution_count": 5,
   "metadata": {},
   "outputs": [],
   "source": [
    "import torch.nn as nn\n",
    "\n",
    "class AMLNet(nn.Module):\n",
    "    def __init__(self, input_dim):\n",
    "        super(AMLNet, self).__init__()\n",
    "        self.model = nn.Sequential(\n",
    "            nn.Linear(input_dim, 64),\n",
    "            nn.ReLU(),\n",
    "            nn.Dropout(0.2),\n",
    "            nn.Linear(64, 32),\n",
    "            nn.ReLU(),\n",
    "            nn.Linear(32, 1),\n",
    "            nn.Sigmoid()\n",
    "        )\n",
    "\n",
    "    def forward(self, x):\n",
    "        return self.model(x)\n",
    "\n",
    "model = AMLNet(X.shape[1])\n"
   ]
  },
  {
   "cell_type": "code",
   "execution_count": 6,
   "metadata": {},
   "outputs": [
    {
     "name": "stdout",
     "output_type": "stream",
     "text": [
      "Epoch 1 - Train Loss: 0.0072, Val Loss: 0.0054\n",
      "Epoch 2 - Train Loss: 0.0055, Val Loss: 0.0053\n",
      "Epoch 3 - Train Loss: 0.0054, Val Loss: 0.0053\n",
      "Epoch 4 - Train Loss: 0.0054, Val Loss: 0.0053\n",
      "Epoch 5 - Train Loss: 0.0054, Val Loss: 0.0053\n",
      "Epoch 6 - Train Loss: 0.0053, Val Loss: 0.0053\n",
      "Epoch 7 - Train Loss: 0.0053, Val Loss: 0.0052\n",
      "Epoch 8 - Train Loss: 0.0053, Val Loss: 0.0052\n",
      "Epoch 9 - Train Loss: 0.0053, Val Loss: 0.0052\n",
      "Epoch 10 - Train Loss: 0.0053, Val Loss: 0.0052\n"
     ]
    }
   ],
   "source": [
    "import torch.optim as optim\n",
    "\n",
    "loss_fn = nn.BCELoss()\n",
    "optimizer = optim.Adam(model.parameters(), lr=1e-3)\n",
    "\n",
    "def train(model, train_dl, val_dl, epochs=10):\n",
    "    for epoch in range(epochs):\n",
    "        model.train()\n",
    "        total_loss = 0\n",
    "        for xb, yb in train_dl:\n",
    "            optimizer.zero_grad()\n",
    "            pred = model(xb)\n",
    "            loss = loss_fn(pred, yb)\n",
    "            loss.backward()\n",
    "            optimizer.step()\n",
    "            total_loss += loss.item() * xb.size(0)\n",
    "        \n",
    "        val_loss = 0\n",
    "        model.eval()\n",
    "        with torch.no_grad():\n",
    "            for xb, yb in val_dl:\n",
    "                pred = model(xb)\n",
    "                val_loss += loss_fn(pred, yb).item() * xb.size(0)\n",
    "\n",
    "        print(f\"Epoch {epoch+1} - Train Loss: {total_loss/len(train_dl.dataset):.4f}, Val Loss: {val_loss/len(val_dl.dataset):.4f}\")\n",
    "\n",
    "train(model, train_dl, val_dl, epochs=10)\n"
   ]
  },
  {
   "cell_type": "code",
   "execution_count": 7,
   "metadata": {},
   "outputs": [
    {
     "name": "stdout",
     "output_type": "stream",
     "text": [
      "Test Accuracy: 0.9988988422403803\n",
      "Test ROC AUC: 0.9796723380947947\n"
     ]
    }
   ],
   "source": [
    "from sklearn.metrics import accuracy_score, roc_auc_score\n",
    "\n",
    "model.eval()\n",
    "y_true, y_probs = [], []\n",
    "\n",
    "with torch.no_grad():\n",
    "    for xb, yb in test_dl:\n",
    "        preds = model(xb)\n",
    "        y_probs.extend(preds.view(-1).tolist())\n",
    "        y_true.extend(yb.view(-1).tolist())\n",
    "\n",
    "y_preds = [1 if p >= 0.5 else 0 for p in y_probs]\n",
    "\n",
    "print(\"Test Accuracy:\", accuracy_score(y_true, y_preds))\n",
    "print(\"Test ROC AUC:\", roc_auc_score(y_true, y_probs))\n"
   ]
  },
  {
   "cell_type": "code",
   "execution_count": 9,
   "metadata": {},
   "outputs": [
    {
     "name": "stdout",
     "output_type": "stream",
     "text": [
      "Confusion Matrix:\n",
      " [[6372624       0]\n",
      " [   7025       0]]\n"
     ]
    },
    {
     "data": {
      "image/png": "[encoded data removed]",
      "text/plain": [
       "<Figure size 600x400 with 2 Axes>"
      ]
     },
     "metadata": {},
     "output_type": "display_data"
    }
   ],
   "source": [
    "from sklearn.metrics import confusion_matrix, ConfusionMatrixDisplay\n",
    "import seaborn as sns\n",
    "import matplotlib.pyplot as plt\n",
    "\n",
    "# y_true and y_preds already created from earlier\n",
    "# y_true: list of true labels from test set\n",
    "# y_preds: list of predicted binary labels from model output (thresholded at 0.5)\n",
    "\n",
    "cm = confusion_matrix(y_true, y_preds)\n",
    "print(\"Confusion Matrix:\\n\", cm)\n",
    "\n",
    "plt.figure(figsize=(6, 4))\n",
    "sns.heatmap(cm, annot=True, fmt='d', cmap='Blues', xticklabels=[\"Not Laundering\", \"Laundering\"], yticklabels=[\"Not Laundering\", \"Laundering\"])\n",
    "plt.xlabel(\"Predicted\")\n",
    "plt.ylabel(\"Actual\")\n",
    "plt.title(\"Confusion Matrix\")\n",
    "plt.tight_layout()\n",
    "plt.show()\n"
   ]
  },
  {
   "cell_type": "code",
   "execution_count": 8,
   "metadata": {},
   "outputs": [
    {
     "name": "stdout",
     "output_type": "stream",
     "text": [
      "Model weights saved as aml_model_weights.pth\n"
     ]
    }
   ],
   "source": [
    "# Save only the model's state_dict (weights)\n",
    "torch.save(model.state_dict(), 'aml_model_weights.pth')\n",
    "print(\"Model weights saved as aml_model_weights.pth\")\n"
   ]
  },
  {
   "cell_type": "code",
   "execution_count": null,
   "metadata": {},
   "outputs": [],
   "source": []
  }
 ],
 "metadata": {
  "kernelspec": {
   "display_name": "nlp_env",
   "language": "python",
   "name": "nlp_env"
  },
  "language_info": {
   "codemirror_mode": {
    "name": "ipython",
    "version": 3
   },
   "file_extension": ".py",
   "mimetype": "text/x-python",
   "name": "python",
   "nbconvert_exporter": "python",
   "pygments_lexer": "ipython3",
   "version": "3.10.9"
  }
 },
 "nbformat": 4,
 "nbformat_minor": 2
}
